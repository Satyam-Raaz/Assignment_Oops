{
 "cells": [
  {
   "cell_type": "code",
   "execution_count": 1,
   "metadata": {},
   "outputs": [
    {
     "name": "stdout",
     "output_type": "stream",
     "text": [
      "Hello, Alice! Welcome to the class.\n"
     ]
    }
   ],
   "source": [
    "#Q_No_2> Write a basic function to greet students\n",
    "def greet_student(name):\n",
    "        print(f\"Hello, {name}! Welcome to the class.\")\n",
    "\n",
    "# Example usage:\n",
    "greet_student(\"Alice\")"
   ]
  },
  {
   "cell_type": "code",
   "execution_count": 7,
   "metadata": {},
   "outputs": [
    {
     "name": "stdout",
     "output_type": "stream",
     "text": [
      "1\n",
      "4\n",
      "9\n",
      "16\n",
      "25\n"
     ]
    }
   ],
   "source": [
    "#Q_No_6>Write a code that generates the squares of numbers from 1 to n using a generator\n",
    "n=5\n",
    "\n",
    "def gen_square(n):\n",
    "    for i in range(1,n+1):\n",
    "        yield i**2\n",
    "\n",
    "gen=gen_square(n) \n",
    "\n",
    "\n",
    "for num  in gen:\n",
    "    print(num)"
   ]
  },
  {
   "cell_type": "code",
   "execution_count": 6,
   "metadata": {},
   "outputs": [
    {
     "name": "stdout",
     "output_type": "stream",
     "text": [
      "1\n",
      "2\n",
      "3\n",
      "4\n",
      "5\n",
      "6\n",
      "7\n",
      "8\n",
      "9\n",
      "11\n",
      "22\n",
      "33\n",
      "44\n",
      "55\n",
      "66\n",
      "77\n",
      "88\n",
      "99\n"
     ]
    }
   ],
   "source": [
    "#Q_No_7> Write a code that generates palindromic numbers up to n using a generator\n",
    "def is_palindromic(n):\n",
    "    number_str=str(n)\n",
    "    if number_str==number_str[::-1]:\n",
    "        return True\n",
    "    else:\n",
    "        return False\n",
    "\n",
    "\n",
    "def generate_Palindrome(n):\n",
    "    for i in range(1,n+1):\n",
    "        if is_palindromic(i):\n",
    "            yield i\n",
    "\n",
    "number=100\n",
    "\n",
    "gen=generate_Palindrome(number)\n",
    "for num in gen:\n",
    "    print(num)"
   ]
  },
  {
   "cell_type": "code",
   "execution_count": null,
   "metadata": {},
   "outputs": [
    {
     "name": "stdout",
     "output_type": "stream",
     "text": [
      "2\n",
      "4\n",
      "6\n",
      "8\n",
      "10\n"
     ]
    }
   ],
   "source": [
    "#Q_No_8>Write a code that generates even numbers from 2 to n using a generator\n",
    "n=10\n",
    "\n",
    "def gen_even(n):\n",
    "    i=2\n",
    "    while i<=n:\n",
    "        yield i\n",
    "        i+=2 \n",
    "        \n",
    "gen=gen_even(n)\n",
    "\n",
    "for num in gen:\n",
    "    print(num)"
   ]
  },
  {
   "cell_type": "code",
   "execution_count": null,
   "metadata": {},
   "outputs": [
    {
     "name": "stdout",
     "output_type": "stream",
     "text": [
      "1\n",
      "4\n",
      "9\n",
      "16\n",
      "25\n"
     ]
    }
   ],
   "source": [
    "#Q_No_9>Write a code that generates powers of two up to n using a generator\n",
    "n=5\n",
    "\n",
    "def gen_poweroftwo(n):\n",
    "    for i in range(1,n+1):\n",
    "        yield i**2\n",
    "\n",
    "gen=gen_poweroftwo(n) \n",
    "\n",
    "\n",
    "for num  in gen:\n",
    "    print(num)  "
   ]
  },
  {
   "cell_type": "code",
   "execution_count": null,
   "metadata": {},
   "outputs": [
    {
     "name": "stdout",
     "output_type": "stream",
     "text": [
      "2\n",
      "3\n",
      "5\n",
      "7\n"
     ]
    }
   ],
   "source": [
    "#Q_No_10> Write a code that generates prime numbers up to n using a generator\n",
    "n=10\n",
    "\n",
    "def gen_prime(n):\n",
    "    for i in range(2,n+1):\n",
    "         j=2\n",
    "         count=0\n",
    "         while j<=i:\n",
    "            if i%j==0:\n",
    "               count+=1\n",
    "            j+=1    \n",
    "         if count==1:\n",
    "            yield i                  \n",
    "\n",
    "\n",
    "gen=gen_prime(n)\n",
    "for num in gen:\n",
    "    print(num)"
   ]
  },
  {
   "cell_type": "code",
   "execution_count": null,
   "metadata": {},
   "outputs": [
    {
     "name": "stdout",
     "output_type": "stream",
     "text": [
      "12\n"
     ]
    }
   ],
   "source": [
    "#Q_No_11>Write a code that uses a lambda function to calculate the sum of two numbers\n",
    "x=5\n",
    "y=7\n",
    "\n",
    "add=lambda x,y:x+y\n",
    "print(add(x,y))"
   ]
  },
  {
   "cell_type": "code",
   "execution_count": null,
   "metadata": {},
   "outputs": [
    {
     "name": "stdout",
     "output_type": "stream",
     "text": [
      "100\n"
     ]
    }
   ],
   "source": [
    "#Q_No_12>Write a code that uses a lambda function to calculate the square of a given number\n",
    "n=10\n",
    "\n",
    "sq=lambda x:x**2\n",
    "print(sq(n))"
   ]
  },
  {
   "cell_type": "code",
   "execution_count": null,
   "metadata": {},
   "outputs": [
    {
     "name": "stdout",
     "output_type": "stream",
     "text": [
      "False\n"
     ]
    }
   ],
   "source": [
    "#Q_No_13> Write a code that uses a lambda function to check whether a given number is even or odd\n",
    "n=5\n",
    "\n",
    "check=lambda x:x%2==0\n",
    "print(check(n))"
   ]
  },
  {
   "cell_type": "code",
   "execution_count": null,
   "metadata": {},
   "outputs": [
    {
     "name": "stdout",
     "output_type": "stream",
     "text": [
      "SatyamKumar\n"
     ]
    }
   ],
   "source": [
    "#Q_No_15>Write a code that uses a lambda function to concatenate two strings\n",
    "str1=\"Satyam\"\n",
    "str2=\"Kumar\"\n",
    "\n",
    "add_str=lambda str1,str2:str1+str2\n",
    "print(add_str(str1,str2))"
   ]
  },
  {
   "cell_type": "code",
   "execution_count": null,
   "metadata": {},
   "outputs": [
    {
     "name": "stdout",
     "output_type": "stream",
     "text": [
      "10\n"
     ]
    }
   ],
   "source": [
    "#Q_No_16>Write a code that uses a lambda function to find the maximum of three given numbers\n",
    "a=5\n",
    "\n",
    "b=10\n",
    "c=8\n",
    "\n",
    "max_num=lambda a,b,c: max(a,b,c)\n",
    "print(max_num(a,b,c))"
   ]
  },
  {
   "cell_type": "code",
   "execution_count": null,
   "metadata": {},
   "outputs": [
    {
     "name": "stdout",
     "output_type": "stream",
     "text": [
      "[4, 64]\n"
     ]
    }
   ],
   "source": [
    "#Q_No_17>Write a code that generates the squares of even numbers from a given list\n",
    "l=[1,2,5,8]\n",
    "\n",
    "def sq_even(l):\n",
    "    n=len(l)\n",
    "    l1=[]\n",
    "    for i in l:\n",
    "        if i%2==0:\n",
    "            l1.append(i**2)\n",
    "\n",
    "    return l1        \n",
    "\n",
    "\n",
    "print(sq_even(l))"
   ]
  },
  {
   "cell_type": "code",
   "execution_count": null,
   "metadata": {},
   "outputs": [
    {
     "name": "stdout",
     "output_type": "stream",
     "text": [
      "30\n"
     ]
    }
   ],
   "source": [
    "#Q_No_18>Write a code that calculates the product of positive numbers from a given list\n",
    "l=[-1,2,3,-4,5]\n",
    "\n",
    "def product_postive(l):\n",
    "    product=1\n",
    "    for i in l:\n",
    "        if i>0:\n",
    "            product=product*i      \n",
    "\n",
    "    return product     \n",
    "\n",
    "\n",
    "print(product_postive(l))"
   ]
  },
  {
   "cell_type": "code",
   "execution_count": null,
   "metadata": {},
   "outputs": [
    {
     "name": "stdout",
     "output_type": "stream",
     "text": [
      "[2, 10]\n"
     ]
    }
   ],
   "source": [
    "#Q_No_19>Write a code that doubles the values of odd numbers from a given list\n",
    "l=[1,2,5,8]\n",
    "\n",
    "def odd_double(l):\n",
    "    n=len(l)\n",
    "    l1=[]\n",
    "    for i in l:\n",
    "        if i%2!=0:\n",
    "            l1.append(i+i)\n",
    "\n",
    "    return l1        \n",
    "\n",
    "\n",
    "print(odd_double(l))"
   ]
  },
  {
   "cell_type": "code",
   "execution_count": null,
   "metadata": {},
   "outputs": [
    {
     "name": "stdout",
     "output_type": "stream",
     "text": [
      "36\n"
     ]
    }
   ],
   "source": [
    "#Q_No_20> Write a code that calculates the sum of cubes of numbers from a given list\n",
    "l=[1,2,3]\n",
    "\n",
    "def sum_cubes(l):\n",
    "    sum=0\n",
    "    for i in l:\n",
    "        sum+=i*i*i     \n",
    "\n",
    "    return sum    \n",
    "\n",
    "\n",
    "print(sum_cubes(l))"
   ]
  },
  {
   "cell_type": "code",
   "execution_count": null,
   "metadata": {},
   "outputs": [
    {
     "name": "stdout",
     "output_type": "stream",
     "text": [
      "[2, 5, 11]\n"
     ]
    }
   ],
   "source": [
    "#Q_No_21>Write a code that filters out prime numbers from a given list\n",
    "def filter_primeno(n):\n",
    "    count=0\n",
    "    j=2\n",
    "    while j<=n:\n",
    "        if n%j== 0:\n",
    "            count+=1\n",
    "        j+=1    \n",
    "    if count==1:\n",
    "        return True\n",
    "    else:\n",
    "        return False   \n",
    "\n",
    "l=[2,5,6,8,11,15]\n",
    "print(list(filter(filter_primeno,l)))"
   ]
  },
  {
   "cell_type": "code",
   "execution_count": null,
   "metadata": {},
   "outputs": [
    {
     "name": "stdout",
     "output_type": "stream",
     "text": [
      "15\n"
     ]
    }
   ],
   "source": [
    "#Q_No_22> Write a code that uses a lambda function to calculate the sum of two numbers\n",
    "x=5\n",
    "y=10\n",
    "\n",
    "add=lambda x,y:x+y\n",
    "print(add(x,y))"
   ]
  },
  {
   "cell_type": "code",
   "execution_count": null,
   "metadata": {},
   "outputs": [
    {
     "name": "stdout",
     "output_type": "stream",
     "text": [
      "25\n"
     ]
    }
   ],
   "source": [
    "#Q_No_23> Write a code that uses a lambda function to calculate the square of a given number\n",
    "n=5\n",
    "\n",
    "sq=lambda x:x**2\n",
    "print(sq(n))"
   ]
  },
  {
   "cell_type": "code",
   "execution_count": null,
   "metadata": {},
   "outputs": [
    {
     "name": "stdout",
     "output_type": "stream",
     "text": [
      "True\n"
     ]
    }
   ],
   "source": [
    "#Q_No_24>Write a code that uses a lambda function to check whether a given number is even or odd\n",
    "n=6\n",
    "\n",
    "check=lambda x:x%2==0\n",
    "print(check(n))"
   ]
  },
  {
   "cell_type": "code",
   "execution_count": null,
   "metadata": {},
   "outputs": [
    {
     "name": "stdout",
     "output_type": "stream",
     "text": [
      "SatyamKumar\n"
     ]
    }
   ],
   "source": [
    "#Q_No_25>Write a code that uses a lambda function to concatenate two strings\n",
    "str1=\"Satyam\"\n",
    "str2=\"Kumar\"\n",
    "\n",
    "add_str=lambda str1,str2:str1+str2\n",
    "print(add_str(str1,str2))"
   ]
  },
  {
   "cell_type": "code",
   "execution_count": null,
   "metadata": {},
   "outputs": [
    {
     "name": "stdout",
     "output_type": "stream",
     "text": [
      "23\n"
     ]
    }
   ],
   "source": [
    "#Q_No_26>Write a code that uses a lambda function to find the maximum of three given numbers\n",
    "a=10\n",
    "b=15\n",
    "c=23\n",
    "\n",
    "max_num=lambda a,b,c: max(a,b,c)\n",
    "print(max_num(a,b,c))"
   ]
  },
  {
   "cell_type": "code",
   "execution_count": null,
   "metadata": {},
   "outputs": [],
   "source": [
    "#Q_No_32> Define a parent class Animal with a method make_sound that prints \"Generic animal sound\". Create a child class Dog inheriting from Animal with a method make_sound that prints \"Woof!\"\n",
    "class Animal:\n",
    "    def make_sound():\n",
    "        print(\"Generic animal sound\")\n",
    "\n",
    "\n",
    "class Dog(Animal):\n",
    "    def make_sound():\n",
    "        print(\"Wool!\")\n",
    "        "
   ]
  },
  {
   "cell_type": "code",
   "execution_count": null,
   "metadata": {},
   "outputs": [],
   "source": [
    "#Q_No_33>Define a method move in the Animal class that prints \"Animal moves\". Override the move method in the Dog class to print \"Dog runs.\n",
    "class Animal:\n",
    "    def move():\n",
    "        print(\"Animal moves\")\n",
    "\n",
    "\n",
    "class Dog(Animal):\n",
    "    def move():\n",
    "        print(\"Dog Runs\")"
   ]
  },
  {
   "cell_type": "code",
   "execution_count": null,
   "metadata": {},
   "outputs": [],
   "source": [
    "#Q_No_34> Create a class Mammal with a method reproduce that prints \"Giving birth to live young.\" Create a class DogMammal inheriting from both Dog and Mammal\n",
    "class Animal:\n",
    "    def move():\n",
    "        print(\"Animal moves\")\n",
    "\n",
    "class Dog:\n",
    "    def move():\n",
    "        print(\"Dog runs\")"
   ]
  },
  {
   "cell_type": "code",
   "execution_count": null,
   "metadata": {},
   "outputs": [],
   "source": [
    "#Q_No_35>Create a class GermanShepherd inheriting from Dog and override the make_sound method to print \"Bark!\n",
    "class Dog:\n",
    "    def make_sound():\n",
    "        print(\"bark\")\n",
    "\n",
    "        \n",
    "class GermanShepherd(Dog):\n",
    "    def make_sound():\n",
    "        print(\"bark\") "
   ]
  },
  {
   "cell_type": "code",
   "execution_count": 4,
   "metadata": {},
   "outputs": [
    {
     "name": "stdout",
     "output_type": "stream",
     "text": [
      "5\n",
      "Golden Retriever\n"
     ]
    }
   ],
   "source": [
    "#Q_No_36>Define constructors in both the Animal and Dog classes with different initialization parameters\n",
    "class Animal:\n",
    "    def __init__(self, species, age):\n",
    "        self.species = species\n",
    "        self.age = age\n",
    "\n",
    "class Dog(Animal):\n",
    "    def __init__(self, species, age, breed):\n",
    "        super().__init__(species, age)  # Call the parent class's constructor\n",
    "        self.breed = breed\n",
    "\n",
    "animal = Animal('Lion', 5)\n",
    "print(animal.age)\n",
    "dog = Dog('Dog', 3, 'Golden Retriever')\n",
    "print(dog.breed)"
   ]
  },
  {
   "cell_type": "code",
   "execution_count": 2,
   "metadata": {},
   "outputs": [
    {
     "name": "stdout",
     "output_type": "stream",
     "text": [
      "This is a vehicle.\n",
      "This is a car.\n"
     ]
    }
   ],
   "source": [
    "#Q_No_43>Define a base class with a method and a subclass that overrides the method\n",
    "# Define the base class\n",
    "class Vehicle:\n",
    "    def describe(self):\n",
    "        return \"This is a vehicle.\"\n",
    "\n",
    "# Define a subclass that overrides the method\n",
    "class Car(Vehicle):\n",
    "    def describe(self):\n",
    "        return \"This is a car.\"\n",
    "\n",
    "\n",
    "vehicle = Vehicle()\n",
    "car = Car()\n",
    "\n",
    "print(vehicle.describe())  \n",
    "print(car.describe())     "
   ]
  },
  {
   "cell_type": "code",
   "execution_count": 3,
   "metadata": {},
   "outputs": [
    {
     "name": "stdout",
     "output_type": "stream",
     "text": [
      "Area: 20\n",
      "Area: 28.274333882308138\n"
     ]
    }
   ],
   "source": [
    "#Q_No_44>  Define a base class and multiple subclasses with overridden methods.\n",
    "import math\n",
    "\n",
    "# Define the base class\n",
    "class Shape:\n",
    "    def area(self):\n",
    "        \"\"\"Method to calculate area; to be overridden by subclasses.\"\"\"\n",
    "        raise NotImplementedError(\"Subclasses must override this method\")\n",
    "\n",
    "# Define a subclass for Rectangle\n",
    "class Rectangle(Shape):\n",
    "    def __init__(self, width, height):\n",
    "        self.width = width\n",
    "        self.height = height\n",
    "\n",
    "    def area(self):\n",
    "        return self.width * self.height\n",
    "\n",
    "# Define a subclass for Circle\n",
    "class Circle(Shape):\n",
    "    def __init__(self, radius):\n",
    "        self.radius = radius\n",
    "\n",
    "    def area(self):\n",
    "        return math.pi * self.radius ** 2\n",
    "\n",
    "shapes = [\n",
    "    Rectangle(width=4, height=5),\n",
    "    Circle(radius=3)\n",
    "]\n",
    "\n",
    "for shape in shapes:\n",
    "    print(f\"Area: {shape.area()}\")"
   ]
  },
  {
   "cell_type": "code",
   "execution_count": null,
   "metadata": {},
   "outputs": [
    {
     "name": "stdout",
     "output_type": "stream",
     "text": [
      "1000\n",
      "3000\n",
      "1500\n"
     ]
    }
   ],
   "source": [
    "#Q_No_49> Implement a class BankAccount with a private balance attribute. Include methods to deposit, withdraw, and check the balance\n",
    "class BankAccount:\n",
    "    def __init__(self,balance):\n",
    "        self.__balance=balance\n",
    "\n",
    "    def deposit(self,amount):\n",
    "        self.__balance=self.__balance+amount\n",
    "\n",
    "    def withdraw(self,amount):\n",
    "        if self.__balance>=amount:\n",
    "            self.__balance=self.__balance-amount\n",
    "            return True\n",
    "        else:\n",
    "            False\n",
    "\n",
    "    def check_balance(self):\n",
    "        return self.__balance     \n",
    "\n",
    "\n",
    "acc=BankAccount(1000)\n",
    "print(acc.check_balance())      \n",
    "acc.deposit(2000)\n",
    "print(acc.check_balance())\n",
    "acc.withdraw(1500)\n",
    "print(acc.check_balance())"
   ]
  },
  {
   "cell_type": "code",
   "execution_count": null,
   "metadata": {},
   "outputs": [
    {
     "name": "stdout",
     "output_type": "stream",
     "text": [
      "Ajay\n",
      "Satyam\n"
     ]
    }
   ],
   "source": [
    "#Q_No_50> Develop a Person class with private attributes name and email, and methods to set and get the email\n",
    "class Person:\n",
    "    def __init__(self,name,email):\n",
    "        self.__name=name\n",
    "        self.__email=email\n",
    "\n",
    "    def getname(self):\n",
    "        return self.__name\n",
    "    def setname(self,name):\n",
    "        self.__name=name  \n",
    "\n",
    "    def get_Email(self):\n",
    "        return self.__email\n",
    "    def set_Enail(self,email):\n",
    "        self.__email=email\n",
    "\n",
    "    \n",
    "\n",
    "per=Person(\"Ajay\",\"satyamkumar1412\")\n",
    "print(per.getname())\n",
    "per.setname(\"Satyam\")\n",
    "print(per.getname())"
   ]
  },
  {
   "cell_type": "code",
   "execution_count": null,
   "metadata": {},
   "outputs": [
    {
     "name": "stdout",
     "output_type": "stream",
     "text": [
      "before func\n",
      "Hello\n",
      "after func\n"
     ]
    }
   ],
   "source": [
    "#Q_No_52> Create a decorator in Python that adds functionality to a simple function by printing a message before and after the function execution\n",
    "def my_decorator(func):\n",
    "    def wrappeer():\n",
    "        print(\"before func\")\n",
    "        func()\n",
    "        print(\"after func\")\n",
    "    return wrappeer\n",
    "\n",
    "@my_decorator\n",
    "def say_hello():\n",
    "    print(\"Hello\")\n",
    "\n",
    "say_hello()\n",
    "\n"
   ]
  },
  {
   "cell_type": "code",
   "execution_count": null,
   "metadata": {},
   "outputs": [
    {
     "name": "stdout",
     "output_type": "stream",
     "text": [
      "my_function: This is a custom message.\n",
      "Function is running.\n"
     ]
    }
   ],
   "source": [
    "#Q_No_53> Modify the decorator to accept arguments and print the function name along with the message\n",
    "def custom_decorator(message):\n",
    "    def decorator(func):\n",
    "        def wrapper():\n",
    "            print(f\"{func.__name__}: {message}\")\n",
    "            return func()\n",
    "        return wrapper\n",
    "    return decorator\n",
    "\n",
    "@custom_decorator(\"This is a custom message.\")\n",
    "def my_function():\n",
    "    print(\"Function is running.\")\n",
    "\n",
    "my_function()"
   ]
  },
  {
   "cell_type": "code",
   "execution_count": null,
   "metadata": {},
   "outputs": [
    {
     "name": "stdout",
     "output_type": "stream",
     "text": [
      "Decorator One: Before the function runs\n",
      "Decorator Two: Before the function runs\n",
      "Function is running\n",
      "Decorator Two: After the function runs\n",
      "Decorator One: After the function runs\n"
     ]
    }
   ],
   "source": [
    "#Q_No_54>Create two decorators, and apply them to a single function. Ensure that they execute in the order they are applied\n",
    "def decorator_one(func):\n",
    "    def wrapper():\n",
    "        print(\"Decorator One: Before the function runs\")\n",
    "        func()\n",
    "        print(\"Decorator One: After the function runs\")\n",
    "    return wrapper\n",
    "\n",
    "def decorator_two(func):\n",
    "    def wrapper(*args, **kwargs):\n",
    "        print(\"Decorator Two: Before the function runs\")\n",
    "        func()\n",
    "        print(\"Decorator Two: After the function runs\")\n",
    "    return wrapper\n",
    "\n",
    "@decorator_one\n",
    "@decorator_two\n",
    "def my_function():\n",
    "    print(\"Function is running\")\n",
    "\n",
    "my_function()"
   ]
  },
  {
   "cell_type": "code",
   "execution_count": null,
   "metadata": {},
   "outputs": [
    {
     "name": "stdout",
     "output_type": "stream",
     "text": [
      "Decorator One: Before the function runs\n",
      "Function is running with arguments: a = 5, b = 10\n",
      "Decorator One: After the function runs\n"
     ]
    }
   ],
   "source": [
    "#Q_No_55>Modify the decorator to accept and pass function arguments to the wrapped function\n",
    "def decorator_one(func):\n",
    "    def wrapper(*args, **kwargs):\n",
    "        print(\"Decorator One: Before the function runs\")\n",
    "        result = func(*args, **kwargs)  # Passing arguments to the original function\n",
    "        print(\"Decorator One: After the function runs\")\n",
    "        return result\n",
    "    return wrapper\n",
    "\n",
    "@decorator_one\n",
    "def my_function(a, b):\n",
    "    print(f\"Function is running with arguments: a = {a}, b = {b}\")\n",
    "\n",
    "# Call the function with arguments\n",
    "my_function(5, 10)"
   ]
  },
  {
   "cell_type": "code",
   "execution_count": null,
   "metadata": {},
   "outputs": [
    {
     "name": "stdout",
     "output_type": "stream",
     "text": [
      "Running my_function with arguments (5, 10) and {}\n",
      "Function is running with a = 5 and b = 10\n",
      "Function name: my_function\n",
      "Function docstring: This is the original function's docstring.\n"
     ]
    }
   ],
   "source": [
    "#Q_No_56> Create a decorator that preserves the metadata of the original function\n",
    "from functools import wraps\n",
    "\n",
    "def decorator_with_metadata(func):\n",
    "    @wraps(func)  # This preserves the metadata of the original function\n",
    "    def wrapper(*args, **kwargs):\n",
    "        print(f\"Running {func.__name__} with arguments {args} and {kwargs}\")\n",
    "        return func(*args, **kwargs)\n",
    "    return wrapper\n",
    "\n",
    "@decorator_with_metadata\n",
    "def my_function(a, b):\n",
    "    \"\"\"This is the original function's docstring.\"\"\"\n",
    "    print(f\"Function is running with a = {a} and b = {b}\")\n",
    "\n",
    "my_function(5, 10)\n",
    "\n",
    "# Check the preserved metadata\n",
    "print(f\"Function name: {my_function.__name__}\")\n",
    "print(f\"Function docstring: {my_function.__doc__}\")"
   ]
  },
  {
   "cell_type": "code",
   "execution_count": null,
   "metadata": {},
   "outputs": [
    {
     "name": "stdout",
     "output_type": "stream",
     "text": [
      "12\n"
     ]
    }
   ],
   "source": [
    "#Q_No_57>Create a Python class `Calculator` with a static method `add` that takes in two numbers and returns their sum\n",
    "class Calculator:\n",
    "    @staticmethod\n",
    "    def add(x,y):\n",
    "        x=5   \n",
    "        y=7\n",
    "        return x+y\n",
    "x=int\n",
    "y=int\n",
    "print(Calculator.add(x,y))"
   ]
  },
  {
   "cell_type": "code",
   "execution_count": null,
   "metadata": {},
   "outputs": [
    {
     "name": "stdout",
     "output_type": "stream",
     "text": [
      "3\n"
     ]
    }
   ],
   "source": [
    "#Q_No_58> Create a Python class `Employee` with a class `method get_employee_count` that returns the total number of employees created\n",
    "class Employee:\n",
    "    total_emloyee=0\n",
    "    def __init__(self,name):\n",
    "        self.name=name\n",
    "        Employee.total_emloyee+=1\n",
    "\n",
    "    def get_Employee_count(self):\n",
    "        return Employee.total_emloyee\n",
    "\n",
    "emp1=Employee(\"ajay\")\n",
    "emp2=Employee(\"vijay\")\n",
    "emp2=Employee(\"uijay\")\n",
    "print(emp1.get_Employee_count()) "
   ]
  },
  {
   "cell_type": "code",
   "execution_count": null,
   "metadata": {},
   "outputs": [
    {
     "name": "stdout",
     "output_type": "stream",
     "text": [
      "maytaS\n"
     ]
    }
   ],
   "source": [
    "#Q_No_59> Create a Python class `StringFormatter` with a static method `reverse_string` that takes a string as input and returns its reverse\n",
    "class StringFormatter:\n",
    "    @staticmethod\n",
    "    def reverse_string(s):\n",
    "        s=\"Satyam\"\n",
    "        n=len(s)\n",
    "        ans=\"\"\n",
    "        j=n-1\n",
    "        while j>=0:\n",
    "            ans+=s[j]\n",
    "            j-=1\n",
    "\n",
    "        return ans        \n",
    "s=str\n",
    "print(StringFormatter.reverse_string(s))"
   ]
  },
  {
   "cell_type": "code",
   "execution_count": null,
   "metadata": {},
   "outputs": [
    {
     "ename": "TypeError",
     "evalue": "Circle() takes no arguments",
     "output_type": "error",
     "traceback": [
      "\u001b[1;31m---------------------------------------------------------------------------\u001b[0m",
      "\u001b[1;31mTypeError\u001b[0m                                 Traceback (most recent call last)",
      "Cell \u001b[1;32mIn[3], line 12\u001b[0m\n\u001b[0;32m      8\u001b[0m         radius\u001b[38;5;241m=\u001b[39m\u001b[38;5;28mcls\u001b[39m\u001b[38;5;241m.\u001b[39mradius\n\u001b[0;32m      9\u001b[0m         \u001b[38;5;28;01mreturn\u001b[39;00m \u001b[38;5;28mcls\u001b[39m(\u001b[38;5;241m3.14\u001b[39m\u001b[38;5;241m*\u001b[39mradius\u001b[38;5;241m*\u001b[39mradius)\n\u001b[1;32m---> 12\u001b[0m cal\u001b[38;5;241m=\u001b[39m\u001b[43mCircle\u001b[49m\u001b[43m(\u001b[49m\u001b[38;5;241;43m5\u001b[39;49m\u001b[43m)\u001b[49m    \n\u001b[0;32m     13\u001b[0m \u001b[38;5;28mprint\u001b[39m(cal\u001b[38;5;241m.\u001b[39mcalculate_area())    \n",
      "\u001b[1;31mTypeError\u001b[0m: Circle() takes no arguments"
     ]
    }
   ],
   "source": [
    "#Q_No_60>Create a Python class `Circle` with a class method `calculate_area` that calculates the area of a circle given its radius\n",
    "class Circle:\n",
    "    def ___init__(self,radius):\n",
    "        self.radius=radius\n",
    "\n",
    "    @classmethod\n",
    "    def calculate_area(cls):\n",
    "        radius=cls.radius\n",
    "        return cls(3.14*radius*radius)\n",
    "    \n",
    "    \n",
    "cal=Circle(5)    \n",
    "print(cal.calculate_area())    "
   ]
  },
  {
   "cell_type": "code",
   "execution_count": null,
   "metadata": {},
   "outputs": [],
   "source": [
    "#Q_No_61>Create a Python class `TemperatureConverter` with a static method `celsius_to_fahrenheit` that converts Celsius to Fahrenheit\n",
    "class TemperatureConverter:\n",
    "    @staticmethod\n",
    "    def celsius_to_farenhiet(c):\n",
    "        c=5\n",
    "        return 9/5*c+32\n",
    "    \n",
    "c=int\n",
    "print(TemperatureConverter.celsius_to_farenhiet(c))\n",
    "\n",
    "\n"
   ]
  },
  {
   "cell_type": "code",
   "execution_count": null,
   "metadata": {},
   "outputs": [],
   "source": []
  }
 ],
 "metadata": {
  "kernelspec": {
   "display_name": "Python 3",
   "language": "python",
   "name": "python3"
  },
  "language_info": {
   "codemirror_mode": {
    "name": "ipython",
    "version": 3
   },
   "file_extension": ".py",
   "mimetype": "text/x-python",
   "name": "python",
   "nbconvert_exporter": "python",
   "pygments_lexer": "ipython3",
   "version": "3.12.2"
  }
 },
 "nbformat": 4,
 "nbformat_minor": 2
}
